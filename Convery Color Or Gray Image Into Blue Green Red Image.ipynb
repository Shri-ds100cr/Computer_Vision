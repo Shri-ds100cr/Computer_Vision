{
 "cells": [
  {
   "cell_type": "markdown",
   "id": "24a56993",
   "metadata": {},
   "source": [
    "# Get the answers of below questions:"
   ]
  },
  {
   "cell_type": "markdown",
   "id": "930991bd",
   "metadata": {},
   "source": [
    "1.How do I change the color of an image in OpenCV?\n",
    "2.How to extract red, green, blue color from an image in python\n",
    "3.Green channel extraction in image processing python\n",
    "4.What are channels in OpenCV?\n",
    "5.How do I merge an image in OpenCV?"
   ]
  },
  {
   "cell_type": "code",
   "execution_count": 1,
   "id": "9d5a4c5e",
   "metadata": {},
   "outputs": [],
   "source": [
    "# # Convert RGB(color) image into Blue, Green, Red\n",
    "# In[1]\n",
    "# Show image\n",
    "import cv2\n",
    "import numpy as np"
   ]
  },
  {
   "cell_type": "code",
   "execution_count": 3,
   "id": "7ec59fbc",
   "metadata": {},
   "outputs": [],
   "source": [
    "img_path=r\"D:\\Python DS\\Computer Vision\\Mai-Baba.jpg\" \n",
    "img = cv2.imread(img_path)\n",
    "img = cv2.resize(img, (1280, 720))\n",
    "cv2.imshow(\"Mai-Baba\", img)\n",
    "cv2.waitKey(0)\n",
    "cv2.destroyAllWindows()"
   ]
  },
  {
   "cell_type": "code",
   "execution_count": 4,
   "id": "8590601a",
   "metadata": {},
   "outputs": [
    {
     "data": {
      "text/plain": [
       "(720, 1280, 3)"
      ]
     },
     "execution_count": 4,
     "metadata": {},
     "output_type": "execute_result"
    }
   ],
   "source": [
    "img.shape"
   ]
  },
  {
   "cell_type": "markdown",
   "id": "7bae7ec4",
   "metadata": {},
   "source": [
    "#  Blue Image"
   ]
  },
  {
   "cell_type": "code",
   "execution_count": 7,
   "id": "7dbdd147",
   "metadata": {},
   "outputs": [],
   "source": [
    "b, g, r = cv2.split(img)\n",
    "zeros_ch = np.zeros(img.shape[0:2], dtype=\"uint8\")\n",
    "blue_img = cv2.merge([b, zeros_ch, zeros_ch])\n",
    "cv2.imshow(\"Mai-Baba\", blue_img)\n",
    "cv2.waitKey(0)\n",
    "cv2.destroyAllWindows()"
   ]
  },
  {
   "cell_type": "markdown",
   "id": "a11c9a89",
   "metadata": {},
   "source": [
    "# Green Image"
   ]
  },
  {
   "cell_type": "code",
   "execution_count": 8,
   "id": "cf1ee665",
   "metadata": {},
   "outputs": [],
   "source": [
    "green_img = cv2.merge([zeros_ch, g, zeros_ch])\n",
    "cv2.imshow(\"Green Image\", green_img)\n",
    "cv2.waitKey(0)\n",
    "cv2.destroyAllWindows()"
   ]
  },
  {
   "cell_type": "markdown",
   "id": "a35b4a6a",
   "metadata": {},
   "source": [
    "# Red Image"
   ]
  },
  {
   "cell_type": "code",
   "execution_count": 9,
   "id": "4e52c847",
   "metadata": {},
   "outputs": [],
   "source": [
    "red_img = cv2.merge([zeros_ch, zeros_ch, r])\n",
    "cv2.imshow(\"Red Image\", red_img)\n",
    "cv2.waitKey(0)\n",
    "cv2.destroyAllWindows()"
   ]
  },
  {
   "cell_type": "markdown",
   "id": "18da4bd9",
   "metadata": {},
   "source": [
    " # Show Image using Index spliting and 4 image in One Window"
   ]
  },
  {
   "cell_type": "code",
   "execution_count": 10,
   "id": "a8d52910",
   "metadata": {},
   "outputs": [],
   "source": [
    "img = cv2.resize(img, (400,300))\n",
    "red_array = np.zeros(img.shape, dtype=\"uint8\")\n",
    "red_array[:,:,2] = img[:,:,2]\n",
    "green_array = np.zeros(img.shape, dtype=\"uint8\")\n",
    "green_array[:,:,1] = img[:,:,1]\n",
    "blue_array = np.zeros(img.shape, dtype=\"uint8\")\n",
    "blue_array[:,:,0] = img[:,:,0]\n",
    "ht1 = np.hstack((red_array, green_array))\n",
    "ht2 = np.hstack((blue_array, img))\n",
    "img_4 = np.vstack((ht1, ht2))\n",
    " \n",
    "cv2.imshow(\"4 images\", img_4)\n",
    "cv2.waitKey(0)\n",
    "cv2.destroyAllWindows()"
   ]
  },
  {
   "cell_type": "code",
   "execution_count": null,
   "id": "553a940a",
   "metadata": {},
   "outputs": [],
   "source": []
  }
 ],
 "metadata": {
  "kernelspec": {
   "display_name": "Python 3 (ipykernel)",
   "language": "python",
   "name": "python3"
  },
  "language_info": {
   "codemirror_mode": {
    "name": "ipython",
    "version": 3
   },
   "file_extension": ".py",
   "mimetype": "text/x-python",
   "name": "python",
   "nbconvert_exporter": "python",
   "pygments_lexer": "ipython3",
   "version": "3.9.7"
  }
 },
 "nbformat": 4,
 "nbformat_minor": 5
}
