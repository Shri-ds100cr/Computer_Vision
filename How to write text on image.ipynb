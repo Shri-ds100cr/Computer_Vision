{
 "cells": [
  {
   "cell_type": "markdown",
   "id": "d4cddced",
   "metadata": {},
   "source": [
    "# How to write text on image"
   ]
  },
  {
   "cell_type": "code",
   "execution_count": 21,
   "id": "01c8e586",
   "metadata": {},
   "outputs": [],
   "source": [
    "import cv2\n",
    "import numpy as np\n",
    " \n",
    "img_path=r\"D:\\Python DS\\Computer Vision\\Mai-Baba.jpg\"\n",
    "image = cv2.imread(img_path) # give numpy array\n",
    "image = cv2.resize(image, (1080, 720))\n",
    " \n",
    "text = \"Mai-Baba\" # image name\n",
    "org = (100, 200) #original\n",
    "font = cv2.FONT_HERSHEY_COMPLEX\n",
    "fontScale = 6\n",
    "color = (0,0,255)  #(B, G, R)\n",
    "thickness = 3\n",
    "lineType = cv2.LINE_AA\n",
    "bottomLeftOrigin = True #True for reverse image\n",
    " \n",
    "# Syntax>> cv2.putText(image, text, org, font, fontScale, color[, thickness[, lineType[, bottomLeftOrigin]]])\n",
    " \n",
    "img_text = cv2.putText(image, text, org, font, fontScale, color, thickness, lineType, bottomLeftOrigin=False)\n",
    " \n",
    "cv2.imshow(\"Text Image\", img_text)\n",
    " \n",
    "cv2.waitKey(0)\n",
    "cv2.destroyAllWindows()"
   ]
  },
  {
   "cell_type": "code",
   "execution_count": 22,
   "id": "8a811847",
   "metadata": {},
   "outputs": [],
   "source": [
    "import cv2\n",
    "import numpy as np\n",
    " \n",
    "img_path=r\"D:\\Python DS\\Computer Vision\\Mai-Baba.jpg\"\n",
    "image = cv2.imread(img_path) # give numpy array\n",
    "image = cv2.resize(image, (1080, 720))\n",
    " \n",
    "text = \"God\" # image name\n",
    "org = (50, 100) #original\n",
    "font = cv2.FONT_HERSHEY_COMPLEX\n",
    "fontScale = 6\n",
    "color = (0,0,255)  #(B, G, R)\n",
    "thickness = 3\n",
    "lineType = cv2.LINE_AA\n",
    "bottomLeftOrigin = True #True for reverse image\n",
    " \n",
    "# Syntax>> cv2.putText(image, text, org, font, fontScale, color[, thickness[, lineType[, bottomLeftOrigin]]])\n",
    " \n",
    "img_text = cv2.putText(image, text, org, font, fontScale, color, thickness, lineType, bottomLeftOrigin=False)\n",
    " \n",
    "cv2.imshow(\"Text Image\", img_text)\n",
    " \n",
    "cv2.waitKey(0)\n",
    "cv2.destroyAllWindows()"
   ]
  },
  {
   "cell_type": "code",
   "execution_count": null,
   "id": "94c9a26a",
   "metadata": {},
   "outputs": [],
   "source": []
  }
 ],
 "metadata": {
  "kernelspec": {
   "display_name": "Python 3 (ipykernel)",
   "language": "python",
   "name": "python3"
  },
  "language_info": {
   "codemirror_mode": {
    "name": "ipython",
    "version": 3
   },
   "file_extension": ".py",
   "mimetype": "text/x-python",
   "name": "python",
   "nbconvert_exporter": "python",
   "pygments_lexer": "ipython3",
   "version": "3.9.7"
  }
 },
 "nbformat": 4,
 "nbformat_minor": 5
}
