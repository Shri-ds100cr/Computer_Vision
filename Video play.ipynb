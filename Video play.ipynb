{
 "cells": [
  {
   "cell_type": "code",
   "execution_count": 1,
   "id": "4dda6cd5",
   "metadata": {},
   "outputs": [],
   "source": [
    "import cv2\n",
    "import numpy as  np"
   ]
  },
  {
   "cell_type": "code",
   "execution_count": 2,
   "id": "81632538",
   "metadata": {},
   "outputs": [],
   "source": [
    "video_path1=r'E:\\series\\friends\\Friends - Season 3\\friends.s03e01.480p.bluray.x264-EncodeKing'\n",
    "#video_path1=r'E:\\series\\friends\\Friends - Season 3\\friends.s03e02.480p.bluray.x264-EncodeKing'\n"
   ]
  },
  {
   "cell_type": "code",
   "execution_count": 4,
   "id": "9cf1c924",
   "metadata": {},
   "outputs": [],
   "source": [
    "cap=cv2.VideoCapture(video_path1)\n",
    "while cap.isOpened():\n",
    "    ret,frame =cap.read()\n",
    "    if ret:\n",
    "        image=cv2.resize(frame,(1280,720))\n",
    "        cv2,imshow(\"video Player\",image)\n",
    "        if cv2.waitKey(25) & 0xff ==ord('q'):\n",
    "            break\n",
    "    else:\n",
    "        break\n",
    "        cap.release()\n",
    "        cv2.destroyAllwindow()"
   ]
  },
  {
   "cell_type": "markdown",
   "id": "fddf8280",
   "metadata": {},
   "source": [
    "# How to Start your inbuilt camera"
   ]
  },
  {
   "cell_type": "code",
   "execution_count": null,
   "id": "968dc889",
   "metadata": {},
   "outputs": [],
   "source": [
    "#cap=cv2.VideoCapture(0)# just make it as zero\n",
    "while cap.isOpened():\n",
    "    ret,frame =cap.read()\n",
    "    if ret:\n",
    "        image=cv2.resize(frame,(6000,5000))\n",
    "        cv2.imshow(\"video Player\",image)\n",
    "        if cv2.waitKey(25) & 0xff ==ord('q'):\n",
    "            break\n",
    "    else:\n",
    "        break\n",
    "        cap.release()\n",
    "        cv2.destroyAllwindow()"
   ]
  },
  {
   "cell_type": "code",
   "execution_count": null,
   "id": "8dc5ac05",
   "metadata": {},
   "outputs": [],
   "source": [
    "cap=cv2.VideoCapture(video_path1)\n",
    "while cap.isOpened():\n",
    "    ret,frame =cap.read()\n",
    "    if ret:\n",
    "        image=cv2.resize(frame,(1280,720))\n",
    "        cv2,imshow(\"video Player\",image)\n",
    "        if cv2.waitKey(25) & 0xff ==ord('q'):\n",
    "            break\n",
    "    else:\n",
    "        break\n",
    "        cap.release()\n",
    "        cv2.destroyAllwindow()"
   ]
  }
 ],
 "metadata": {
  "kernelspec": {
   "display_name": "Python 3 (ipykernel)",
   "language": "python",
   "name": "python3"
  },
  "language_info": {
   "codemirror_mode": {
    "name": "ipython",
    "version": 3
   },
   "file_extension": ".py",
   "mimetype": "text/x-python",
   "name": "python",
   "nbconvert_exporter": "python",
   "pygments_lexer": "ipython3",
   "version": "3.9.7"
  }
 },
 "nbformat": 4,
 "nbformat_minor": 5
}
