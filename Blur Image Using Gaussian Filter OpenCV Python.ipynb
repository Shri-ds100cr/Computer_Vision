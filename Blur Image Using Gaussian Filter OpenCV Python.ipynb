{
 "cells": [
  {
   "cell_type": "markdown",
   "id": "a3e51468",
   "metadata": {},
   "source": [
    "Syntax:\n",
    "\n",
    "cv2.GaussianBlur(src, ksize, sigmaX[, dst[, sigmaY[, borderType]]]) -> dst"
   ]
  },
  {
   "cell_type": "markdown",
   "id": "2f52af1e",
   "metadata": {},
   "source": [
    "# Show Image"
   ]
  },
  {
   "cell_type": "code",
   "execution_count": 2,
   "id": "94c2c8ed",
   "metadata": {},
   "outputs": [],
   "source": [
    "# Show Image\n",
    "import cv2\n",
    "import numpy as np\n",
    " \n",
    "img_path = r\"E:\\DATA SCIENCE\\Computer Vision\\Ankita Sis.jpg\"\n",
    " \n",
    "img = cv2.imread(img_path)\n",
    "img = cv2.resize(img, (1000,600))\n",
    " \n",
    "cv2.imshow(\"Sister\", img)\n",
    " \n",
    "cv2.waitKey(0)\n",
    "cv2.destroyAllWindows()"
   ]
  },
  {
   "cell_type": "markdown",
   "id": "0a634708",
   "metadata": {},
   "source": [
    "# Blur Image using Gaussian Blu"
   ]
  },
  {
   "cell_type": "code",
   "execution_count": 6,
   "id": "d99b355b",
   "metadata": {},
   "outputs": [],
   "source": [
    "# Normal Blur\n",
    " \n",
    "blur_img = cv2.GaussianBlur(img, (7,7), sigmaX=34, sigmaY=36) #kernal Should be odd\n",
    "\n",
    "cv2.imshow(\"Blur Image\", blur_img)\n",
    "cv2.imshow(\"Model Image\", img)\n",
    " \n",
    "cv2.waitKey(0)\n",
    "cv2.destroyAllWindows()"
   ]
  },
  {
   "cell_type": "code",
   "execution_count": 7,
   "id": "a3c19316",
   "metadata": {},
   "outputs": [],
   "source": [
    "# Heavy Blur ..just change the kernal value and should be odd\n",
    " \n",
    "blur_img = cv2.GaussianBlur(img, (101,101), sigmaX=40, sigmaY=30)\n",
    " \n",
    "cv2.imshow(\"Blur Image\", blur_img)\n",
    "cv2.imshow(\"Model Image\", img)\n",
    " \n",
    "cv2.waitKey(0)\n",
    "cv2.destroyAllWindows()"
   ]
  },
  {
   "cell_type": "markdown",
   "id": "a7f41b2e",
   "metadata": {},
   "source": [
    "# Stretch image Vertically"
   ]
  },
  {
   "cell_type": "code",
   "execution_count": 8,
   "id": "500f1c9d",
   "metadata": {},
   "outputs": [],
   "source": [
    "blur_img = cv2.GaussianBlur(img, (1,99), sigmaX=10, sigmaY=10)  #kernal(width,height)\n",
    " \n",
    "cv2.imshow(\"Blur Image\", blur_img)\n",
    "cv2.imshow(\"Model Image\", img)\n",
    " \n",
    "cv2.waitKey(0)\n",
    "cv2.destroyAllWindows()"
   ]
  },
  {
   "cell_type": "markdown",
   "id": "b907b4dd",
   "metadata": {},
   "source": [
    "# Stretch image Horizontally"
   ]
  },
  {
   "cell_type": "code",
   "execution_count": 9,
   "id": "b9efa782",
   "metadata": {},
   "outputs": [],
   "source": [
    "blur_img = cv2.GaussianBlur(img, (99,1), sigmaX=10, sigmaY=20)\n",
    " \n",
    "cv2.imshow(\"Blur Image\", blur_img)\n",
    "cv2.imshow(\"Model Image\", img)\n",
    " \n",
    "cv2.waitKey(0)\n",
    "cv2.destroyAllWindows()"
   ]
  },
  {
   "cell_type": "markdown",
   "id": "272c13c0",
   "metadata": {},
   "source": [
    "# Save Blur Image"
   ]
  },
  {
   "cell_type": "code",
   "execution_count": 10,
   "id": "dc86ff9d",
   "metadata": {},
   "outputs": [
    {
     "data": {
      "text/plain": [
       "True"
      ]
     },
     "execution_count": 10,
     "metadata": {},
     "output_type": "execute_result"
    }
   ],
   "source": [
    "cv2.imwrite(\"blur_img.jpg\", blur_img)"
   ]
  },
  {
   "cell_type": "code",
   "execution_count": null,
   "id": "660214f5",
   "metadata": {},
   "outputs": [],
   "source": []
  }
 ],
 "metadata": {
  "kernelspec": {
   "display_name": "Python 3 (ipykernel)",
   "language": "python",
   "name": "python3"
  },
  "language_info": {
   "codemirror_mode": {
    "name": "ipython",
    "version": 3
   },
   "file_extension": ".py",
   "mimetype": "text/x-python",
   "name": "python",
   "nbconvert_exporter": "python",
   "pygments_lexer": "ipython3",
   "version": "3.9.7"
  }
 },
 "nbformat": 4,
 "nbformat_minor": 5
}
