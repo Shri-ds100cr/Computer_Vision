{
 "cells": [
  {
   "cell_type": "markdown",
   "id": "e953dd28",
   "metadata": {},
   "source": [
    "# Get the answers of below questions:"
   ]
  },
  {
   "cell_type": "markdown",
   "id": "a426c807",
   "metadata": {},
   "source": [
    "1.How do you find the color of the pixel of an image?\n",
    "2.How do you find the color of an image in Python?\n",
    "3.How do I extract color features from an image?\n",
    "4.How do we find items of a specific color?\n",
    "5.How can I identify a color in an image?"
   ]
  },
  {
   "cell_type": "markdown",
   "id": "71b26e65",
   "metadata": {},
   "source": [
    "# Color Pixels Extraction"
   ]
  },
  {
   "cell_type": "markdown",
   "id": "d84d105f",
   "metadata": {},
   "source": [
    "How to Detect Road Marking Using OpenCV"
   ]
  },
  {
   "cell_type": "code",
   "execution_count": 11,
   "id": "7eac3970",
   "metadata": {},
   "outputs": [],
   "source": [
    " #Show an Image\n",
    "import cv2\n",
    "import matplotlib.pyplot as plt\n",
    "import numpy as np\n",
    " \n",
    "img_path =r\"E:\\DATA SCIENCE\\Computer Vision\\road1.jpg\"\n",
    " \n",
    "img = cv2.imread(img_path)\n",
    "img = cv2.resize(img, (1080, 720))\n",
    " \n",
    "cv2.imshow(\"Road_Image\", img)\n",
    " \n",
    "cv2.waitKey(0)\n",
    "cv2.destroyAllWindows()"
   ]
  },
  {
   "cell_type": "markdown",
   "id": "9e128202",
   "metadata": {},
   "source": [
    "# Conver image in gray scale"
   ]
  },
  {
   "cell_type": "code",
   "execution_count": 14,
   "id": "7bda2eee",
   "metadata": {},
   "outputs": [],
   "source": [
    "gray_img = cv2.cvtColor(img, cv2.COLOR_BGR2GRAY)\n",
    " \n",
    "cv2.imshow(\"Gray Image\", gray_img)\n",
    " \n",
    "cv2.waitKey(0)\n",
    "cv2.destroyAllWindows()"
   ]
  },
  {
   "cell_type": "markdown",
   "id": "2ee4adb9",
   "metadata": {},
   "source": [
    "# Road Margin Detection using Gray Image\n"
   ]
  },
  {
   "cell_type": "code",
   "execution_count": 15,
   "id": "406e2507",
   "metadata": {},
   "outputs": [
    {
     "data": {
      "text/plain": [
       "array([[91, 80, 65, ..., 11,  8,  7],\n",
       "       [71, 75, 81, ..., 23, 19, 17],\n",
       "       [81, 79, 76, ..., 15, 11, 10],\n",
       "       ...,\n",
       "       [44, 43, 42, ..., 31, 31, 31],\n",
       "       [39, 39, 38, ..., 33, 33, 33],\n",
       "       [45, 45, 45, ..., 30, 31, 30]], dtype=uint8)"
      ]
     },
     "execution_count": 15,
     "metadata": {},
     "output_type": "execute_result"
    }
   ],
   "source": [
    "gray_img ##0-255 ##0=Black ,255=White"
   ]
  },
  {
   "cell_type": "code",
   "execution_count": 16,
   "id": "45b26401",
   "metadata": {},
   "outputs": [],
   "source": [
    "gray_img_copy = np.copy(gray_img)\n",
    " \n",
    "gray_img_copy[gray_img_copy[:, :] < 200]=0\n",
    " \n",
    "cv2.imshow(\"Gray Image\", gray_img_copy)\n",
    " \n",
    "cv2.waitKey(0)\n",
    "cv2.destroyAllWindows()"
   ]
  },
  {
   "cell_type": "code",
   "execution_count": 17,
   "id": "87d6a8bb",
   "metadata": {},
   "outputs": [
    {
     "data": {
      "text/plain": [
       "array([  0,   0,   0,   0,   0,   0,   0,   0,   0,   0,   0,   0,   0,\n",
       "         0,   0, 216, 243, 230,   0,   0,   0, 203, 203,   0,   0,   0,\n",
       "         0,   0,   0,   0,   0,   0,   0,   0,   0,   0,   0,   0,   0,\n",
       "         0,   0,   0,   0,   0,   0,   0,   0,   0,   0,   0,   0,   0,\n",
       "         0,   0,   0,   0,   0,   0,   0,   0,   0,   0,   0,   0,   0,\n",
       "         0,   0,   0,   0,   0,   0,   0,   0,   0,   0,   0,   0,   0,\n",
       "         0,   0,   0,   0,   0,   0,   0, 232,   0,   0,   0,   0,   0,\n",
       "         0,   0,   0,   0,   0,   0,   0,   0,   0,   0,   0,   0, 213,\n",
       "       227,   0,   0,   0,   0,   0,   0,   0,   0,   0,   0,   0,   0,\n",
       "         0, 214,   0,   0,   0,   0,   0, 200,   0,   0,   0,   0,   0,\n",
       "         0,   0,   0,   0,   0,   0,   0,   0,   0,   0,   0,   0,   0,\n",
       "         0,   0,   0,   0,   0,   0,   0,   0,   0,   0,   0,   0,   0,\n",
       "         0,   0,   0,   0,   0,   0,   0,   0,   0,   0,   0,   0,   0,\n",
       "         0,   0,   0,   0,   0,   0,   0,   0,   0,   0,   0,   0,   0,\n",
       "         0,   0,   0,   0,   0,   0,   0,   0,   0,   0,   0,   0,   0,\n",
       "         0,   0,   0,   0,   0,   0,   0,   0,   0,   0,   0,   0,   0,\n",
       "         0,   0,   0,   0,   0,   0,   0,   0,   0,   0,   0,   0,   0,\n",
       "         0,   0,   0,   0,   0,   0,   0,   0,   0,   0,   0,   0,   0,\n",
       "         0,   0,   0,   0,   0,   0,   0,   0,   0,   0,   0,   0,   0,\n",
       "         0,   0,   0,   0,   0,   0,   0,   0,   0,   0,   0,   0,   0,\n",
       "         0,   0,   0,   0,   0,   0,   0,   0,   0,   0,   0,   0,   0,\n",
       "         0,   0,   0,   0,   0,   0,   0,   0,   0,   0,   0,   0,   0,\n",
       "         0,   0,   0,   0,   0,   0,   0,   0,   0,   0,   0,   0,   0,\n",
       "         0,   0,   0,   0,   0,   0,   0,   0,   0,   0,   0,   0,   0,\n",
       "         0,   0,   0,   0,   0,   0,   0,   0,   0,   0,   0,   0,   0,\n",
       "         0,   0,   0,   0,   0,   0,   0,   0,   0,   0,   0,   0,   0,\n",
       "         0,   0,   0,   0,   0,   0,   0,   0,   0,   0,   0,   0,   0,\n",
       "         0,   0,   0,   0,   0,   0,   0,   0,   0,   0,   0,   0,   0,\n",
       "         0,   0,   0,   0,   0,   0,   0,   0,   0,   0,   0,   0,   0,\n",
       "         0,   0,   0,   0,   0,   0,   0,   0,   0,   0,   0,   0,   0,\n",
       "         0,   0,   0,   0,   0,   0,   0,   0,   0,   0,   0,   0,   0,\n",
       "         0,   0,   0,   0,   0,   0,   0,   0,   0,   0,   0,   0,   0,\n",
       "         0,   0,   0,   0,   0,   0,   0,   0,   0,   0,   0,   0,   0,\n",
       "         0,   0,   0,   0,   0,   0,   0,   0,   0,   0,   0,   0,   0,\n",
       "         0,   0,   0,   0,   0,   0,   0,   0,   0,   0,   0,   0,   0,\n",
       "         0,   0,   0,   0,   0,   0,   0,   0,   0,   0,   0,   0,   0,\n",
       "         0,   0,   0,   0,   0, 239, 248, 225,   0,   0,   0,   0,   0,\n",
       "         0,   0,   0,   0,   0,   0,   0,   0,   0,   0,   0,   0,   0,\n",
       "         0,   0,   0,   0,   0,   0,   0,   0,   0,   0,   0,   0,   0,\n",
       "         0,   0,   0,   0,   0,   0,   0,   0,   0,   0,   0,   0,   0,\n",
       "         0,   0,   0,   0,   0,   0,   0,   0,   0,   0,   0,   0,   0,\n",
       "         0,   0,   0,   0,   0,   0,   0,   0,   0,   0,   0,   0,   0,\n",
       "         0,   0,   0,   0,   0,   0,   0,   0,   0,   0,   0,   0,   0,\n",
       "         0,   0,   0,   0,   0,   0,   0,   0,   0,   0,   0,   0,   0,\n",
       "         0,   0,   0,   0,   0,   0,   0,   0,   0,   0,   0,   0,   0,\n",
       "         0,   0,   0,   0,   0,   0,   0,   0,   0,   0,   0,   0,   0,\n",
       "         0,   0,   0,   0,   0,   0,   0,   0,   0,   0,   0,   0,   0,\n",
       "         0,   0,   0,   0,   0,   0,   0,   0,   0,   0,   0,   0,   0,\n",
       "         0,   0,   0,   0,   0,   0,   0,   0,   0,   0,   0,   0,   0,\n",
       "         0,   0,   0,   0,   0,   0,   0,   0,   0,   0,   0,   0,   0,\n",
       "         0,   0,   0,   0,   0,   0,   0,   0,   0,   0,   0,   0,   0,\n",
       "         0,   0,   0,   0,   0,   0,   0,   0,   0,   0,   0,   0,   0,\n",
       "         0,   0,   0,   0,   0,   0,   0,   0,   0,   0,   0,   0,   0,\n",
       "         0,   0,   0,   0,   0,   0,   0,   0,   0,   0,   0,   0,   0,\n",
       "         0,   0,   0,   0,   0,   0,   0,   0,   0,   0,   0,   0,   0,\n",
       "         0,   0,   0,   0,   0], dtype=uint8)"
      ]
     },
     "execution_count": 17,
     "metadata": {},
     "output_type": "execute_result"
    }
   ],
   "source": [
    "gray_img ## 0 - 255 ## 0=Black, 255= White\n",
    " \n",
    "gray_img_copy[:, :] < 200\n",
    " \n",
    "gray_img_copy\n",
    " \n",
    "gray_img_copy[:, 300]"
   ]
  },
  {
   "cell_type": "markdown",
   "id": "9e884fb0",
   "metadata": {},
   "source": [
    "# Road Margin Detection using Color Image"
   ]
  },
  {
   "cell_type": "code",
   "execution_count": 21,
   "id": "200133fe",
   "metadata": {},
   "outputs": [
    {
     "name": "stdout",
     "output_type": "stream",
     "text": [
      "img_copy.shape:  (720, 1280, 3)\n"
     ]
    }
   ],
   "source": [
    "img_copy = np.copy(img)\n",
    " \n",
    "print(\"img_copy.shape: \", img_copy.shape)\n",
    " \n",
    "img_copy[(img_copy[:, :, 0] < 200) | (img_copy[:, :, 1] < 200) | (img_copy[:, :, 2] < 200)] = 0\n",
    " \n",
    "cv2.imshow(\"Color Image\", img_copy)\n",
    " \n",
    "cv2.waitKey(0)\n",
    "cv2.destroyAllWindows()"
   ]
  },
  {
   "cell_type": "markdown",
   "id": "4339bdbb",
   "metadata": {},
   "source": [
    "# Sign Board Detection"
   ]
  },
  {
   "cell_type": "code",
   "execution_count": 22,
   "id": "f9f2415f",
   "metadata": {},
   "outputs": [],
   "source": [
    "img_path =r\"E:\\DATA SCIENCE\\Computer Vision\\road3.jpg\"\n",
    " \n",
    "img = cv2.imread(img_path)\n",
    "img = cv2.resize(img, (1280, 720))\n",
    " \n",
    "img_copy = np.copy(img)\n",
    " \n",
    "img_copy[(img_copy[:,:,0] > 50) | (img_copy[:,:,1] < 150) | (img_copy[:, :, 2] < 150) ]=0\n",
    " \n",
    "img_2 = np.hstack((cv2.resize(img, (650, 500)), cv2.resize(img_copy, (650, 500))))\n",
    "cv2.imshow(\"Yellow Road Image\", img_2)\n",
    " \n",
    "cv2.waitKey(0)\n",
    "cv2.destroyAllWindows()"
   ]
  },
  {
   "cell_type": "markdown",
   "id": "286bc319",
   "metadata": {},
   "source": [
    "# Red Color Pixels Extraction"
   ]
  },
  {
   "cell_type": "code",
   "execution_count": 24,
   "id": "1606fd12",
   "metadata": {},
   "outputs": [],
   "source": [
    "img_path =r\"E:\\DATA SCIENCE\\Computer Vision\\road1.jpg\"\n",
    " \n",
    "img = cv2.imread(img_path)\n",
    "img = cv2.resize(img, (1280, 720))\n",
    " \n",
    "img_copy = np.copy(img)\n",
    " \n",
    "img_copy[(img_copy[:,:,0] > 50) | (img_copy[:,:,1] > 50) | (img_copy[:, :, 2] < 90) ]=0\n",
    " \n",
    "img_2 = np.hstack(( cv2.resize(img, (650, 500)), cv2.resize(img_copy, (650, 500)) ))\n",
    "cv2.imshow(\"Color Image VS Color Extracted Image\", img_2)\n",
    " \n",
    "cv2.waitKey(0)\n",
    "cv2.destroyAllWindows()"
   ]
  },
  {
   "cell_type": "markdown",
   "id": "c869020c",
   "metadata": {},
   "source": [
    "# Yellow Color Pixels Extraction"
   ]
  },
  {
   "cell_type": "code",
   "execution_count": 25,
   "id": "5ae12e19",
   "metadata": {},
   "outputs": [],
   "source": [
    "img_path =r\"E:\\DATA SCIENCE\\Computer Vision\\road1.jpg\"\n",
    " \n",
    "img = cv2.imread(img_path)\n",
    "img = cv2.resize(img, (1280, 720))\n",
    " \n",
    "img_copy = np.copy(img)\n",
    " \n",
    "img_copy[(img_copy[:,:,0] > 50) | (img_copy[:,:,1] < 150) | (img_copy[:, :, 2] < 150) ]=0\n",
    "cv2.imshow(\"Yellow Road Image\", img_copy)\n",
    " \n",
    "cv2.waitKey(0)\n",
    "cv2.destroyAllWindows()"
   ]
  },
  {
   "cell_type": "markdown",
   "id": "475ea8e3",
   "metadata": {},
   "source": [
    "# Human Detection"
   ]
  },
  {
   "cell_type": "code",
   "execution_count": 26,
   "id": "85322758",
   "metadata": {},
   "outputs": [],
   "source": [
    "img_path =r\"E:\\DATA SCIENCE\\Computer Vision\\sunset.jpg\"\n",
    " \n",
    "img = cv2.imread(img_path)\n",
    "img = cv2.resize(img, (1280, 720))\n",
    " \n",
    "img_copy = np.copy(img)\n",
    " \n",
    "img_copy[(img_copy[:,:,0] > 90) | (img_copy[:,:,1] > 90) | (img_copy[:, :, 2] > 90) ]=255\n",
    " \n",
    "img_2 = np.hstack((cv2.resize(img, (650, 500)), cv2.resize(img_copy, (650, 500))))\n",
    "cv2.imshow(\"Yellow Road Image\", img_2)\n",
    " \n",
    "cv2.waitKey(0)\n",
    "cv2.destroyAllWindows()"
   ]
  },
  {
   "cell_type": "code",
   "execution_count": null,
   "id": "9b4cb6d6",
   "metadata": {},
   "outputs": [],
   "source": []
  }
 ],
 "metadata": {
  "kernelspec": {
   "display_name": "Python 3 (ipykernel)",
   "language": "python",
   "name": "python3"
  },
  "language_info": {
   "codemirror_mode": {
    "name": "ipython",
    "version": 3
   },
   "file_extension": ".py",
   "mimetype": "text/x-python",
   "name": "python",
   "nbconvert_exporter": "python",
   "pygments_lexer": "ipython3",
   "version": "3.9.7"
  }
 },
 "nbformat": 4,
 "nbformat_minor": 5
}
