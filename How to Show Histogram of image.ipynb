{
 "cells": [
  {
   "cell_type": "markdown",
   "id": "a1a6d513",
   "metadata": {},
   "source": [
    "Get the answers of below questions:\n",
    "\n",
    "1.How do you find the histogram of an image?\n",
    "2.How do you find the histogram of an image in Python?\n",
    "3.Green channel extraction in image processing python\n",
    "4.What is histogram in OpenCV?\n",
    "5.How do you plot a histogram of a picture?\n",
    "6.How do you calculate a histogram?\n",
    "7.What are the properties of histogram?"
   ]
  },
  {
   "cell_type": "markdown",
   "id": "09d0d278",
   "metadata": {},
   "source": [
    "# What is histogram ?"
   ]
  },
  {
   "cell_type": "markdown",
   "id": "a15f2334",
   "metadata": {},
   "source": [
    "You can consider histogram as a graph or plot, which gives you an overall idea about the intensity distribution of an image. It is a plot with pixel values (ranging from 0 to 255, not always) in X-axis and corresponding number of pixels in the image on Y-axis.\n",
    "\n",
    "Syntax: cv2.calcHist(images, channels, mask, histSize, ranges[, hist[, accumulate]]) -> hist"
   ]
  },
  {
   "cell_type": "code",
   "execution_count": 1,
   "id": "09365459",
   "metadata": {},
   "outputs": [],
   "source": [
    "# Show Image\n",
    "import cv2\n",
    "import matplotlib.pyplot as plt"
   ]
  },
  {
   "cell_type": "code",
   "execution_count": 18,
   "id": "e6ea53b0",
   "metadata": {},
   "outputs": [],
   "source": [
    "img_path=r\"D:\\Python DS\\Computer Vision\\Mai-Baba.jpg\"\n",
    "#img_path = r\"C:\\Users\\kashz\\AI Life\\AI Projects - IAIP, PTs (Web + Channel)\\02 OpenCV\\000 opencv tutorial\\green.jpg\"\n",
    "img = cv2.imread(img_path)\n",
    "img = cv2.resize(img, (1280, 720))\n",
    "cv2.imshow(\"Image\", img)\n",
    "cv2.waitKey(0)\n",
    "cv2.destroyAllWindows()"
   ]
  },
  {
   "cell_type": "code",
   "execution_count": 4,
   "id": "d6daaf04",
   "metadata": {},
   "outputs": [
    {
     "data": {
      "text/plain": [
       "array([[[255, 255, 255],\n",
       "        [255, 255, 255],\n",
       "        [255, 255, 255],\n",
       "        ...,\n",
       "        [255, 255, 255],\n",
       "        [255, 255, 255],\n",
       "        [255, 255, 255]],\n",
       "\n",
       "       [[255, 255, 255],\n",
       "        [255, 255, 255],\n",
       "        [255, 255, 255],\n",
       "        ...,\n",
       "        [255, 255, 255],\n",
       "        [255, 255, 255],\n",
       "        [255, 255, 255]],\n",
       "\n",
       "       [[255, 255, 255],\n",
       "        [255, 255, 255],\n",
       "        [255, 255, 255],\n",
       "        ...,\n",
       "        [255, 255, 255],\n",
       "        [255, 255, 255],\n",
       "        [255, 255, 255]],\n",
       "\n",
       "       ...,\n",
       "\n",
       "       [[255, 255, 255],\n",
       "        [255, 255, 255],\n",
       "        [255, 255, 255],\n",
       "        ...,\n",
       "        [255, 255, 255],\n",
       "        [255, 255, 255],\n",
       "        [255, 255, 255]],\n",
       "\n",
       "       [[255, 255, 255],\n",
       "        [255, 255, 255],\n",
       "        [255, 255, 255],\n",
       "        ...,\n",
       "        [255, 255, 255],\n",
       "        [255, 255, 255],\n",
       "        [255, 255, 255]],\n",
       "\n",
       "       [[255, 255, 255],\n",
       "        [255, 255, 255],\n",
       "        [255, 255, 255],\n",
       "        ...,\n",
       "        [255, 255, 255],\n",
       "        [255, 255, 255],\n",
       "        [255, 255, 255]]], dtype=uint8)"
      ]
     },
     "execution_count": 4,
     "metadata": {},
     "output_type": "execute_result"
    }
   ],
   "source": [
    "img"
   ]
  },
  {
   "cell_type": "code",
   "execution_count": 5,
   "id": "51f0ab0a",
   "metadata": {},
   "outputs": [
    {
     "data": {
      "text/plain": [
       "array([255, 255, 255, ..., 255, 255, 255], dtype=uint8)"
      ]
     },
     "execution_count": 5,
     "metadata": {},
     "output_type": "execute_result"
    }
   ],
   "source": [
    "img.ravel()"
   ]
  },
  {
   "cell_type": "code",
   "execution_count": 6,
   "id": "ffd68380",
   "metadata": {},
   "outputs": [
    {
     "data": {
      "text/plain": [
       "(720, 1280, 3)"
      ]
     },
     "execution_count": 6,
     "metadata": {},
     "output_type": "execute_result"
    }
   ],
   "source": [
    "img.shape"
   ]
  },
  {
   "cell_type": "code",
   "execution_count": 7,
   "id": "0584577d",
   "metadata": {},
   "outputs": [
    {
     "data": {
      "text/plain": [
       "(2764800,)"
      ]
     },
     "execution_count": 7,
     "metadata": {},
     "output_type": "execute_result"
    }
   ],
   "source": [
    "img.ravel().shape"
   ]
  },
  {
   "cell_type": "code",
   "execution_count": 8,
   "id": "84a279d9",
   "metadata": {},
   "outputs": [
    {
     "data": {
      "text/plain": [
       "2764800"
      ]
     },
     "execution_count": 8,
     "metadata": {},
     "output_type": "execute_result"
    }
   ],
   "source": [
    "img.ravel().size"
   ]
  },
  {
   "cell_type": "markdown",
   "id": "70124b1e",
   "metadata": {},
   "source": [
    "# Histogram of Image"
   ]
  },
  {
   "cell_type": "code",
   "execution_count": 9,
   "id": "f5f33ddc",
   "metadata": {},
   "outputs": [
    {
     "data": {
      "image/png": "[encoded data removed]",
      "text/plain": [
       "<Figure size 432x288 with 1 Axes>"
      ]
     },
     "metadata": {
      "needs_background": "light"
     },
     "output_type": "display_data"
    }
   ],
   "source": [
    "plt.hist(img.ravel(), bins=256, range = [0,255])\n",
    "plt.show()"
   ]
  },
  {
   "cell_type": "markdown",
   "id": "191f85e9",
   "metadata": {},
   "source": [
    "#  Histogram of All channels"
   ]
  },
  {
   "cell_type": "code",
   "execution_count": 11,
   "id": "82f3fda0",
   "metadata": {},
   "outputs": [
    {
     "data": {
      "image/png": "[encoded data removed]",
      "text/plain": [
       "<Figure size 432x288 with 1 Axes>"
      ]
     },
     "metadata": {
      "needs_background": "light"
     },
     "output_type": "display_data"
    }
   ],
   "source": [
    "colors = ('b', 'g', 'r')\n",
    "img_ravel = [img[:, :, 0].ravel(), img[:, :, 1].ravel(), img[:,:, 2].ravel()] \n",
    "plt.hist(img_ravel, color=colors, label=colors)\n",
    "plt.legend()\n",
    "plt.show()"
   ]
  },
  {
   "cell_type": "code",
   "execution_count": 12,
   "id": "64b5e1da",
   "metadata": {},
   "outputs": [
    {
     "data": {
      "image/png": "[encoded data removed]",
      "text/plain": [
       "<Figure size 432x288 with 1 Axes>"
      ]
     },
     "metadata": {
      "needs_background": "light"
     },
     "output_type": "display_data"
    }
   ],
   "source": [
    "colors = ('b', 'g', 'r')\n",
    "img_ravel = [img[:, :, 0].ravel(), img[:, :, 1].ravel(), img[:,:, 2].ravel()] \n",
    "plt.hist(img_ravel, color=colors, label=colors, bins=256, range=[0,256])\n",
    "plt.legend()\n",
    "plt.show()"
   ]
  },
  {
   "cell_type": "markdown",
   "id": "009299c5",
   "metadata": {},
   "source": [
    "# Plot of all Channel using cv2.calcHist() Function"
   ]
  },
  {
   "cell_type": "code",
   "execution_count": 13,
   "id": "8b348830",
   "metadata": {},
   "outputs": [
    {
     "data": {
      "image/png": "[encoded data removed]",
      "text/plain": [
       "<Figure size 1152x648 with 1 Axes>"
      ]
     },
     "metadata": {
      "needs_background": "light"
     },
     "output_type": "display_data"
    }
   ],
   "source": [
    "colors = ('b', 'g', 'r')      \n",
    "plt.figure(figsize=(16, 9))\n",
    "for i, color in enumerate(colors):\n",
    "    histogram = cv2.calcHist([img], [i], None, [256], [0, 256])\n",
    "    plt.plot(histogram, color=color)\n",
    "plt.show()"
   ]
  },
  {
   "cell_type": "code",
   "execution_count": 14,
   "id": "5750ecca",
   "metadata": {},
   "outputs": [
    {
     "data": {
      "text/plain": [
       "array([[1.31000e+02],\n",
       "       [9.90000e+01],\n",
       "       [1.08000e+02],\n",
       "       [1.31000e+02],\n",
       "       [1.42000e+02],\n",
       "       [1.26000e+02],\n",
       "       [1.22000e+02],\n",
       "       [1.28000e+02],\n",
       "       [1.01000e+02],\n",
       "       [1.10000e+02],\n",
       "       [1.52000e+02],\n",
       "       [1.28000e+02],\n",
       "       [1.22000e+02],\n",
       "       [1.29000e+02],\n",
       "       [1.54000e+02],\n",
       "       [1.40000e+02],\n",
       "       [1.29000e+02],\n",
       "       [1.55000e+02],\n",
       "       [1.55000e+02],\n",
       "       [1.63000e+02],\n",
       "       [1.55000e+02],\n",
       "       [1.96000e+02],\n",
       "       [1.70000e+02],\n",
       "       [1.84000e+02],\n",
       "       [1.63000e+02],\n",
       "       [1.82000e+02],\n",
       "       [1.90000e+02],\n",
       "       [2.17000e+02],\n",
       "       [1.92000e+02],\n",
       "       [1.96000e+02],\n",
       "       [2.07000e+02],\n",
       "       [2.25000e+02],\n",
       "       [2.56000e+02],\n",
       "       [2.39000e+02],\n",
       "       [2.64000e+02],\n",
       "       [3.02000e+02],\n",
       "       [3.20000e+02],\n",
       "       [3.25000e+02],\n",
       "       [3.27000e+02],\n",
       "       [3.78000e+02],\n",
       "       [3.85000e+02],\n",
       "       [3.47000e+02],\n",
       "       [4.02000e+02],\n",
       "       [4.31000e+02],\n",
       "       [4.45000e+02],\n",
       "       [4.11000e+02],\n",
       "       [4.73000e+02],\n",
       "       [4.63000e+02],\n",
       "       [5.03000e+02],\n",
       "       [5.27000e+02],\n",
       "       [4.96000e+02],\n",
       "       [4.46000e+02],\n",
       "       [5.02000e+02],\n",
       "       [4.86000e+02],\n",
       "       [4.72000e+02],\n",
       "       [5.11000e+02],\n",
       "       [4.82000e+02],\n",
       "       [5.53000e+02],\n",
       "       [5.24000e+02],\n",
       "       [5.56000e+02],\n",
       "       [5.51000e+02],\n",
       "       [5.60000e+02],\n",
       "       [5.63000e+02],\n",
       "       [5.97000e+02],\n",
       "       [5.90000e+02],\n",
       "       [5.76000e+02],\n",
       "       [5.40000e+02],\n",
       "       [6.19000e+02],\n",
       "       [6.36000e+02],\n",
       "       [5.85000e+02],\n",
       "       [6.32000e+02],\n",
       "       [6.41000e+02],\n",
       "       [6.60000e+02],\n",
       "       [6.37000e+02],\n",
       "       [7.37000e+02],\n",
       "       [6.77000e+02],\n",
       "       [6.98000e+02],\n",
       "       [7.04000e+02],\n",
       "       [7.22000e+02],\n",
       "       [8.02000e+02],\n",
       "       [7.89000e+02],\n",
       "       [7.48000e+02],\n",
       "       [8.33000e+02],\n",
       "       [7.86000e+02],\n",
       "       [8.13000e+02],\n",
       "       [8.52000e+02],\n",
       "       [9.46000e+02],\n",
       "       [8.83000e+02],\n",
       "       [9.12000e+02],\n",
       "       [1.00300e+03],\n",
       "       [9.46000e+02],\n",
       "       [9.85000e+02],\n",
       "       [9.96000e+02],\n",
       "       [1.00500e+03],\n",
       "       [1.02500e+03],\n",
       "       [1.07400e+03],\n",
       "       [1.08100e+03],\n",
       "       [1.12000e+03],\n",
       "       [1.21900e+03],\n",
       "       [1.19500e+03],\n",
       "       [1.21500e+03],\n",
       "       [1.16500e+03],\n",
       "       [1.28600e+03],\n",
       "       [1.31200e+03],\n",
       "       [1.25900e+03],\n",
       "       [1.26600e+03],\n",
       "       [1.34200e+03],\n",
       "       [1.30200e+03],\n",
       "       [1.36200e+03],\n",
       "       [1.34100e+03],\n",
       "       [1.30400e+03],\n",
       "       [1.34600e+03],\n",
       "       [1.40100e+03],\n",
       "       [1.41400e+03],\n",
       "       [1.33500e+03],\n",
       "       [1.37100e+03],\n",
       "       [1.43000e+03],\n",
       "       [1.45600e+03],\n",
       "       [1.47700e+03],\n",
       "       [1.46100e+03],\n",
       "       [1.56500e+03],\n",
       "       [1.50600e+03],\n",
       "       [1.57800e+03],\n",
       "       [1.69300e+03],\n",
       "       [1.77400e+03],\n",
       "       [1.79200e+03],\n",
       "       [1.81000e+03],\n",
       "       [1.73600e+03],\n",
       "       [1.72300e+03],\n",
       "       [1.76300e+03],\n",
       "       [1.70400e+03],\n",
       "       [1.87300e+03],\n",
       "       [1.67700e+03],\n",
       "       [1.78900e+03],\n",
       "       [1.82000e+03],\n",
       "       [1.82800e+03],\n",
       "       [1.77200e+03],\n",
       "       [1.82500e+03],\n",
       "       [1.78400e+03],\n",
       "       [1.85000e+03],\n",
       "       [1.87500e+03],\n",
       "       [1.80000e+03],\n",
       "       [1.90100e+03],\n",
       "       [1.95800e+03],\n",
       "       [1.89900e+03],\n",
       "       [1.93000e+03],\n",
       "       [1.89200e+03],\n",
       "       [2.05900e+03],\n",
       "       [2.03700e+03],\n",
       "       [2.14400e+03],\n",
       "       [2.08200e+03],\n",
       "       [2.14600e+03],\n",
       "       [2.17100e+03],\n",
       "       [2.16400e+03],\n",
       "       [2.27600e+03],\n",
       "       [2.30700e+03],\n",
       "       [2.24400e+03],\n",
       "       [2.33800e+03],\n",
       "       [2.54700e+03],\n",
       "       [2.52500e+03],\n",
       "       [2.62900e+03],\n",
       "       [2.66800e+03],\n",
       "       [2.78200e+03],\n",
       "       [2.80800e+03],\n",
       "       [2.96400e+03],\n",
       "       [3.10200e+03],\n",
       "       [3.06800e+03],\n",
       "       [3.25400e+03],\n",
       "       [3.33700e+03],\n",
       "       [3.69500e+03],\n",
       "       [3.93600e+03],\n",
       "       [3.94600e+03],\n",
       "       [4.15600e+03],\n",
       "       [4.07400e+03],\n",
       "       [3.91000e+03],\n",
       "       [3.82400e+03],\n",
       "       [3.82000e+03],\n",
       "       [3.65900e+03],\n",
       "       [3.81900e+03],\n",
       "       [3.67800e+03],\n",
       "       [3.76800e+03],\n",
       "       [3.66600e+03],\n",
       "       [3.82900e+03],\n",
       "       [3.67500e+03],\n",
       "       [3.65700e+03],\n",
       "       [3.81600e+03],\n",
       "       [3.93400e+03],\n",
       "       [4.14000e+03],\n",
       "       [4.00800e+03],\n",
       "       [4.15900e+03],\n",
       "       [4.17800e+03],\n",
       "       [4.12200e+03],\n",
       "       [4.21900e+03],\n",
       "       [4.14300e+03],\n",
       "       [4.24900e+03],\n",
       "       [3.93600e+03],\n",
       "       [4.09100e+03],\n",
       "       [4.26500e+03],\n",
       "       [4.56300e+03],\n",
       "       [4.40100e+03],\n",
       "       [4.75200e+03],\n",
       "       [4.53400e+03],\n",
       "       [4.33200e+03],\n",
       "       [4.25200e+03],\n",
       "       [3.63000e+03],\n",
       "       [3.67300e+03],\n",
       "       [3.63900e+03],\n",
       "       [3.44500e+03],\n",
       "       [3.33000e+03],\n",
       "       [3.39500e+03],\n",
       "       [3.09800e+03],\n",
       "       [3.02600e+03],\n",
       "       [2.89300e+03],\n",
       "       [2.73100e+03],\n",
       "       [2.69200e+03],\n",
       "       [2.79500e+03],\n",
       "       [2.70100e+03],\n",
       "       [2.55300e+03],\n",
       "       [2.56800e+03],\n",
       "       [2.62200e+03],\n",
       "       [2.51300e+03],\n",
       "       [2.60900e+03],\n",
       "       [2.46300e+03],\n",
       "       [2.42400e+03],\n",
       "       [2.48100e+03],\n",
       "       [2.40900e+03],\n",
       "       [2.36700e+03],\n",
       "       [2.52500e+03],\n",
       "       [2.56000e+03],\n",
       "       [2.53100e+03],\n",
       "       [2.67900e+03],\n",
       "       [2.50400e+03],\n",
       "       [2.75700e+03],\n",
       "       [2.61200e+03],\n",
       "       [2.77300e+03],\n",
       "       [2.71700e+03],\n",
       "       [2.77100e+03],\n",
       "       [2.77000e+03],\n",
       "       [2.84800e+03],\n",
       "       [2.73700e+03],\n",
       "       [2.81600e+03],\n",
       "       [3.02000e+03],\n",
       "       [2.95400e+03],\n",
       "       [3.02400e+03],\n",
       "       [2.86900e+03],\n",
       "       [3.27100e+03],\n",
       "       [3.33900e+03],\n",
       "       [3.77900e+03],\n",
       "       [3.88100e+03],\n",
       "       [3.93000e+03],\n",
       "       [4.26500e+03],\n",
       "       [5.06500e+03],\n",
       "       [5.82700e+03],\n",
       "       [5.79400e+03],\n",
       "       [8.33300e+03],\n",
       "       [4.38106e+05]], dtype=float32)"
      ]
     },
     "execution_count": 14,
     "metadata": {},
     "output_type": "execute_result"
    }
   ],
   "source": [
    "histogram"
   ]
  },
  {
   "cell_type": "code",
   "execution_count": null,
   "id": "597252c4",
   "metadata": {},
   "outputs": [],
   "source": []
  }
 ],
 "metadata": {
  "kernelspec": {
   "display_name": "Python 3 (ipykernel)",
   "language": "python",
   "name": "python3"
  },
  "language_info": {
   "codemirror_mode": {
    "name": "ipython",
    "version": 3
   },
   "file_extension": ".py",
   "mimetype": "text/x-python",
   "name": "python",
   "nbconvert_exporter": "python",
   "pygments_lexer": "ipython3",
   "version": "3.9.7"
  }
 },
 "nbformat": 4,
 "nbformat_minor": 5
}
