{
 "cells": [
  {
   "cell_type": "markdown",
   "id": "b2a49afc",
   "metadata": {},
   "source": [
    "# Get the answers of below questions:"
   ]
  },
  {
   "cell_type": "markdown",
   "id": "935f7e7b",
   "metadata": {},
   "source": [
    "1.How do I blur an image in OpenCV?\n",
    "2.How do you blur an image in Python?\n",
    "3.Why do we blur image?\n",
    "4.How do you blur part of a picture?"
   ]
  },
  {
   "cell_type": "code",
   "execution_count": 2,
   "id": "2a3699bd",
   "metadata": {},
   "outputs": [],
   "source": [
    "# Show Image\n",
    "import cv2\n",
    "import numpy as np\n",
    " \n",
    "img_path = r\"E:\\DATA SCIENCE\\Computer Vision\\Ankita Sis.jpg\"\n",
    " \n",
    "img = cv2.imread(img_path)\n",
    "img = cv2.resize(img, (1000,600))\n",
    " \n",
    "cv2.imshow(\"Sister\", img)\n",
    " \n",
    "cv2.waitKey(0)\n",
    "cv2.destroyAllWindows()"
   ]
  },
  {
   "cell_type": "markdown",
   "id": "7a49eeca",
   "metadata": {},
   "source": [
    "# Blur Image using Filter2D with 3x3 kernel"
   ]
  },
  {
   "cell_type": "code",
   "execution_count": 4,
   "id": "e8a37e71",
   "metadata": {},
   "outputs": [],
   "source": [
    "one_mat_3_3 = np.ones((3,3), dtype=np.float32)/9\n",
    "blur_img_3_3 = cv2.filter2D(img, -1, one_mat_3_3)\n",
    " \n",
    " \n",
    "cv2.imshow(\"Blure image 3x3\", blur_img_3_3)\n",
    "cv2.imshow(\"Original Image\", img)\n",
    " \n",
    "cv2.waitKey(0)\n",
    "cv2.destroyAllWindows()"
   ]
  },
  {
   "cell_type": "markdown",
   "id": "ecf7ba8c",
   "metadata": {},
   "source": [
    "# Blur Image using Filter2D with 5×5 kernel"
   ]
  },
  {
   "cell_type": "code",
   "execution_count": 5,
   "id": "ae8b203b",
   "metadata": {},
   "outputs": [],
   "source": [
    "\n",
    "one_mat_5_5 = np.ones((5,5), dtype=np.float32)/25\n",
    "blur_img_5_5 = cv2.filter2D(img, -1, one_mat_5_5)\n",
    " \n",
    " \n",
    "cv2.imshow(\"Blure image 5x5\", blur_img_5_5)\n",
    "cv2.imshow(\"Original Image\", img)\n",
    " \n",
    "cv2.waitKey(0)\n",
    "cv2.destroyAllWindows()"
   ]
  },
  {
   "cell_type": "markdown",
   "id": "cdd687de",
   "metadata": {},
   "source": [
    "# Blur Image using Filter2D with 10×10 kernel"
   ]
  },
  {
   "cell_type": "code",
   "execution_count": 6,
   "id": "51b2a054",
   "metadata": {},
   "outputs": [],
   "source": [
    "# 10*10\n",
    "one_mat_10_10 = np.ones((10,10), dtype=np.float32)/100\n",
    " \n",
    "blur_img_10_10 = cv2.filter2D(img, -1, one_mat_10_10)\n",
    " \n",
    "cv2.imshow(\"Original Image\", img)\n",
    "cv2.imshow(\"Blure Image using\", blur_img_10_10)\n",
    " \n",
    "cv2.waitKey(0)\n",
    "cv2.destroyAllWindows()\n"
   ]
  },
  {
   "cell_type": "markdown",
   "id": "9d0b0b56",
   "metadata": {},
   "source": [
    "# Blur Image using Filter2D with 100×100 kernel"
   ]
  },
  {
   "cell_type": "code",
   "execution_count": 7,
   "id": "cc3381c2",
   "metadata": {},
   "outputs": [],
   "source": [
    "# 100*100\n",
    "one_mat_100_100 = np.ones((100,100), dtype=np.float32)/10000\n",
    " \n",
    "blur_img_100_100 = cv2.filter2D(img, -1, one_mat_100_100)\n",
    " \n",
    "cv2.imshow(\"Original Image\", img)\n",
    "cv2.imshow(\"Blure Image using\", blur_img_100_100)\n",
    " \n",
    "cv2.waitKey(0)\n",
    "cv2.destroyAllWindows()"
   ]
  },
  {
   "cell_type": "markdown",
   "id": "2b495f73",
   "metadata": {},
   "source": [
    "# Blur Image using Filter2D with 50×50 kernel"
   ]
  },
  {
   "cell_type": "code",
   "execution_count": 9,
   "id": "077d7ffe",
   "metadata": {},
   "outputs": [],
   "source": [
    "# 50*50\n",
    "one_mat_50_50 = np.ones((50,50), dtype=np.float32)/2500\n",
    " \n",
    "blur_img_50_50 = cv2.filter2D(img, -1, one_mat_50_50)\n",
    " \n",
    "cv2.imshow(\"Original Image\", img)\n",
    "cv2.imshow(\"Blure Image using\", blur_img_50_50)\n",
    " \n",
    "cv2.waitKey(0)\n",
    "cv2.destroyAllWindows()"
   ]
  },
  {
   "cell_type": "markdown",
   "id": "fb3f9afb",
   "metadata": {},
   "source": [
    "# Show All Result in Single Windows(Image)"
   ]
  },
  {
   "cell_type": "code",
   "execution_count": null,
   "id": "8aa1a278",
   "metadata": {},
   "outputs": [],
   "source": [
    "## Show All image Result in Single Windows(Image)\n",
    " \n",
    "img = cv2.resize(img, (400, 350))\n",
    "blur_img_3_3 = cv2.resize(blur_img_3_3, (400, 350))\n",
    "blur_img_5_5 = cv2.resize(blur_img_5_5, (400, 350))\n",
    "blur_img_10_10 = cv2.resize(blur_img_10_10, (400, 350))\n",
    "blur_img_50_50 = cv2.resize(blur_img_50_50, (400, 350))\n",
    "blur_img_100_100 = cv2.resize(blur_img_100_100, (400, 350))\n",
    " \n",
    "cv2.putText(img, \"Original\", org=(20,40), fontFace=cv2.FONT_HERSHEY_PLAIN, fontScale= 2 , color=(0,0,255))\n",
    "cv2.putText(blur_img_3_3, \"3x3 Filter\", org=(20,40), fontFace=cv2.FONT_HERSHEY_PLAIN, fontScale= 2 , color=(255,0,255))\n",
    "cv2.putText(blur_img_5_5, \"5x5 Filter\", org=(20,40), fontFace=cv2.FONT_HERSHEY_PLAIN, fontScale= 2 , color=(255,0,255))\n",
    "cv2.putText(blur_img_10_10, \"10x10 Filter\", org=(20,40), fontFace=cv2.FONT_HERSHEY_PLAIN, fontScale= 2 , color=(255,0,255))\n",
    "cv2.putText(blur_img_50_50, \"50x50 Filter\", org=(20,40), fontFace=cv2.FONT_HERSHEY_PLAIN, fontScale= 2 , color=(255,0,255))\n",
    "cv2.putText(blur_img_100_100, \"100x100 Filter\", org=(20,40), fontFace=cv2.FONT_HERSHEY_PLAIN, fontScale= 2 , color=(255,0,255))\n",
    " \n",
    "img1_3 = np.hstack((img, blur_img_3_3, blur_img_5_5))\n",
    "img2_3 = np.hstack((blur_img_10_10, blur_img_50_50,blur_img_100_100))\n",
    " \n",
    "img3_6 = np.vstack((img1_3,img2_3))\n",
    " \n",
    "cv2.imshow(\"1 original and 5 Blur Image\", img3_6)\n",
    "cv2.waitKey(0)\n",
    "cv2.destroyAllWindows()"
   ]
  },
  {
   "cell_type": "code",
   "execution_count": null,
   "id": "5bbca093",
   "metadata": {},
   "outputs": [],
   "source": []
  }
 ],
 "metadata": {
  "kernelspec": {
   "display_name": "Python 3 (ipykernel)",
   "language": "python",
   "name": "python3"
  },
  "language_info": {
   "codemirror_mode": {
    "name": "ipython",
    "version": 3
   },
   "file_extension": ".py",
   "mimetype": "text/x-python",
   "name": "python",
   "nbconvert_exporter": "python",
   "pygments_lexer": "ipython3",
   "version": "3.9.7"
  }
 },
 "nbformat": 4,
 "nbformat_minor": 5
}
