{
 "cells": [
  {
   "cell_type": "code",
   "execution_count": 2,
   "id": "890d1f4d",
   "metadata": {},
   "outputs": [],
   "source": [
    "import cv2\n",
    "import numpy as np"
   ]
  },
  {
   "cell_type": "code",
   "execution_count": null,
   "id": "7fbdc8f9",
   "metadata": {},
   "outputs": [],
   "source": [
    "img_path = r\"D:\\Python DS\\Computer Vision\\Mai-Baba.jpg\"\n",
    "img=cv2.imread(img_path)\n",
    "\n",
    "cv2.imshow(\"Mai-Baba\",img)\n",
    "\n",
    "cv2.waitKey(0)\n",
    "cv2.destroyAllWindows()              "
   ]
  },
  {
   "cell_type": "code",
   "execution_count": null,
   "id": "ac6165f3",
   "metadata": {},
   "outputs": [],
   "source": [
    "video_path1=r'E:\\series\\friends\\Friends - Season 3\\friends.s03e01.480p.bluray.x264-EncodeKing'\n"
   ]
  },
  {
   "cell_type": "code",
   "execution_count": null,
   "id": "2c42e833",
   "metadata": {},
   "outputs": [],
   "source": [
    "cap=cv2.VideoCapture(video_path1)\n",
    "while cap.isOpened():\n",
    "    ret,frame =cap.read()\n",
    "    if ret:\n",
    "        image=cv2.resize(frame,(1280,720))\n",
    "        cv2,imshow(\"video Player\",image)\n",
    "        if cv2.waitKey(25) & 0xff ==ord('q'):\n",
    "            break\n",
    "    else:\n",
    "        break\n",
    "        cap.release()\n",
    "        cv2.destroyAllwindow()"
   ]
  },
  {
   "cell_type": "code",
   "execution_count": null,
   "id": "628a635d",
   "metadata": {},
   "outputs": [],
   "source": []
  },
  {
   "cell_type": "code",
   "execution_count": null,
   "id": "6ea44f1a",
   "metadata": {},
   "outputs": [],
   "source": [
    "\n"
   ]
  },
  {
   "cell_type": "code",
   "execution_count": null,
   "id": "edcbfc51",
   "metadata": {},
   "outputs": [],
   "source": []
  }
 ],
 "metadata": {
  "kernelspec": {
   "display_name": "Python 3 (ipykernel)",
   "language": "python",
   "name": "python3"
  },
  "language_info": {
   "codemirror_mode": {
    "name": "ipython",
    "version": 3
   },
   "file_extension": ".py",
   "mimetype": "text/x-python",
   "name": "python",
   "nbconvert_exporter": "python",
   "pygments_lexer": "ipython3",
   "version": "3.9.7"
  }
 },
 "nbformat": 4,
 "nbformat_minor": 5
}
