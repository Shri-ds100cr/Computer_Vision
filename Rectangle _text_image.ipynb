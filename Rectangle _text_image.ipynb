{
 "cells": [
  {
   "cell_type": "markdown",
   "id": "ee656167",
   "metadata": {},
   "source": [
    "# Draw Rectangle, Print Text On An Image"
   ]
  },
  {
   "cell_type": "code",
   "execution_count": 1,
   "id": "361798fc",
   "metadata": {},
   "outputs": [],
   "source": [
    "import cv2\n",
    "import numpy as np\n",
    " \n",
    "img_path = r\"D:\\Python DS\\Computer Vision\\Mai-Baba.jpg\"\n",
    " \n",
    "image = cv2.imread(img_path)\n",
    "image = cv2.resize(image, (1280, 720))\n",
    " \n",
    "pt1 = (400, 40)\n",
    "pt2 = (800, 300)\n",
    "color = (0, 255, 0)\n",
    "thickness = 4\n",
    "lineType = cv2.LINE_4\n",
    " \n",
    "#rectangle(img, pt1, pt2, color[, thickness[, lineType[, shift]]])\n",
    "img_rect = cv2.rectangle(image, pt1, pt2, color, thickness, lineType)\n",
    " \n",
    "cv2.imshow(\"Rectangle on Image\", img_rect)\n",
    " \n",
    "cv2.waitKey(0)\n",
    "cv2.destroyAllWindows()"
   ]
  },
  {
   "cell_type": "markdown",
   "id": "d0b40004",
   "metadata": {},
   "source": [
    "# Fill Rectangle on Image"
   ]
  },
  {
   "cell_type": "code",
   "execution_count": 4,
   "id": "67fc0cd4",
   "metadata": {},
   "outputs": [],
   "source": [
    "import cv2\n",
    "import numpy as np\n",
    " \n",
    "img_path = r\"D:\\Python DS\\Computer Vision\\Mai-Baba.jpg\"\n",
    " \n",
    "image = cv2.imread(img_path)\n",
    "image = cv2.resize(image, (1280, 720))\n",
    " \n",
    "pt1 = (400, 40)\n",
    "pt2 = (800, 300)\n",
    "color = (0, 255, 0)\n",
    "thickness = -1    #the only change is here\n",
    "lineType = cv2.LINE_4\n",
    " \n",
    "#rectangle(img, pt1, pt2, color[, thickness[, lineType[, shift]]])\n",
    "img_rect = cv2.rectangle(image, pt1, pt2, color, thickness, lineType)\n",
    " \n",
    "cv2.imshow(\"Rectangle on Image\", img_rect)\n",
    " \n",
    "cv2.waitKey(0)\n",
    "cv2.destroyAllWindows()"
   ]
  },
  {
   "cell_type": "markdown",
   "id": "3370485f",
   "metadata": {},
   "source": [
    "# Text On Rectangle on Image"
   ]
  },
  {
   "cell_type": "code",
   "execution_count": 8,
   "id": "dcc1dcb7",
   "metadata": {},
   "outputs": [],
   "source": [
    "import cv2\n",
    "import numpy as np\n",
    " \n",
    "img_path = r\"D:\\Python DS\\Computer Vision\\Mai-Baba.jpg\"\n",
    " \n",
    "image = cv2.imread(img_path)\n",
    "image = cv2.resize(image, (1280, 720))\n",
    " \n",
    "pt1 = (300, 50)\n",
    "pt2 = (800, 300)\n",
    "color = (255, 0, 0)\n",
    "thickness = -1\n",
    "lineType = cv2.LINE_4\n",
    " \n",
    "#rectangle(img, pt1, pt2, color[, thickness[, lineType[, shift]]])\n",
    "img_rect = cv2.rectangle(image, pt1, pt2, color, thickness, lineType)\n",
    " \n",
    "#text on image\n",
    "text = \"Face - 100%\"\n",
    "org = (500, 170) \n",
    "fontFace = cv2.FONT_HERSHEY_SIMPLEX\n",
    "fontScale = 1\n",
    "color = (0,255,25)\n",
    "lineType = cv2.LINE_4\n",
    " \n",
    "#text, org, fontFace, fontScale, color[, thickness\n",
    " \n",
    "img_text = cv2.putText(img_rect, text, org, fontFace, fontScale, color, lineType)\n",
    " \n",
    " \n",
    "cv2.imshow(\"Rectangle on Image\", img_text)\n",
    " \n",
    "cv2.waitKey(0)\n",
    "cv2.destroyAllWindows()"
   ]
  },
  {
   "cell_type": "markdown",
   "id": "ac0abafa",
   "metadata": {},
   "source": [
    "# Text Above Rectangle on Image"
   ]
  },
  {
   "cell_type": "code",
   "execution_count": 10,
   "id": "fe6e80b2",
   "metadata": {},
   "outputs": [],
   "source": [
    "import cv2\n",
    "import numpy as np\n",
    " \n",
    "img_path = r\"D:\\Python DS\\Computer Vision\\Mai-Baba.jpg\"\n",
    " \n",
    "image = cv2.imread(img_path)\n",
    "image = cv2.resize(image, (1280, 720))\n",
    " \n",
    "pt1 = (400, 40)\n",
    "pt2 = (800, 300)\n",
    "color = (255, 0, 0)\n",
    "thickness = 4    #change is here\n",
    "lineType = cv2.LINE_4\n",
    " \n",
    "#rectangle(img, pt1, pt2, color[, thickness[, lineType[, shift]]])\n",
    "img_rect = cv2.rectangle(image, pt1, pt2, color, thickness, lineType)\n",
    " \n",
    "#text on image\n",
    "text = \"Face - 100%\"\n",
    "org = (400, 30)\n",
    "fontFace = cv2.FONT_HERSHEY_SIMPLEX\n",
    "fontScale = 1\n",
    "color = (0,255,25)\n",
    "lineType = cv2.LINE_4\n",
    " \n",
    "#text, org, fontFace, fontScale, color[, thickness\n",
    " \n",
    "img_text = cv2.putText(img_rect, text, org, fontFace, fontScale, color, lineType)\n",
    " \n",
    " \n",
    "cv2.imshow(\"Rectangle on Image\", img_text)\n",
    " \n",
    "cv2.waitKey(0)\n",
    "cv2.destroyAllWindows()"
   ]
  },
  {
   "cell_type": "markdown",
   "id": "2d2fb24c",
   "metadata": {},
   "source": [
    "# Save image"
   ]
  },
  {
   "cell_type": "code",
   "execution_count": 13,
   "id": "c243f3b7",
   "metadata": {},
   "outputs": [],
   "source": [
    "import cv2\n",
    "import numpy as np\n",
    " \n",
    "img_path = r\"D:\\Python DS\\Computer Vision\\Mai-Baba.jpg\"\n",
    " \n",
    "image = cv2.imread(img_path)\n",
    "image = cv2.resize(image, (1280, 720))\n",
    " \n",
    "pt1 = (400, 40)\n",
    "pt2 = (800, 300)\n",
    "color = (255, 0, 0)\n",
    "thickness = 4    #change is here\n",
    "lineType = cv2.LINE_4\n",
    " \n",
    "#rectangle(img, pt1, pt2, color[, thickness[, lineType[, shift]]])\n",
    "img_rect = cv2.rectangle(image, pt1, pt2, color, thickness, lineType)\n",
    " \n",
    "#text on image\n",
    "text = \"Face - 100%\"\n",
    "org = (400, 30)\n",
    "fontFace = cv2.FONT_HERSHEY_SIMPLEX\n",
    "fontScale = 1\n",
    "color = (0,255,25)\n",
    "lineType = cv2.LINE_4\n",
    " \n",
    "#text, org, fontFace, fontScale, color[, thickness\n",
    " \n",
    "img_text = cv2.putText(img_rect, text, org, fontFace, fontScale, color, lineType)\n",
    "\n",
    "cv2.imwrite(\"Image with rectangle text.png\",img_text)  # To save the image\n",
    " \n",
    "cv2.imshow(\"Rectangle on Image\", img_text)\n",
    " \n",
    "cv2.waitKey(0)\n",
    "cv2.destroyAllWindows()"
   ]
  },
  {
   "cell_type": "code",
   "execution_count": null,
   "id": "991f335d",
   "metadata": {},
   "outputs": [],
   "source": []
  }
 ],
 "metadata": {
  "kernelspec": {
   "display_name": "Python 3 (ipykernel)",
   "language": "python",
   "name": "python3"
  },
  "language_info": {
   "codemirror_mode": {
    "name": "ipython",
    "version": 3
   },
   "file_extension": ".py",
   "mimetype": "text/x-python",
   "name": "python",
   "nbconvert_exporter": "python",
   "pygments_lexer": "ipython3",
   "version": "3.9.7"
  }
 },
 "nbformat": 4,
 "nbformat_minor": 5
}
