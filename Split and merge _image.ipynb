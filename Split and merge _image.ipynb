{
 "cells": [
  {
   "cell_type": "code",
   "execution_count": 1,
   "id": "e0fc9826",
   "metadata": {},
   "outputs": [],
   "source": [
    "import cv2\n",
    "import numpy as np\n",
    " \n",
    "img_path=r\"D:\\Python DS\\Computer Vision\\Mai-Baba.jpg\"\n",
    "img = cv2.imread(img_path) # give numpy array\n",
    "img = cv2.resize(img, (1280, 720))\n",
    " \n",
    "cv2.imshow(\"Mai-Baba\",img)\n",
    "\n",
    "# text = \"Mai-Baba\" # image name\n",
    "# org = (100, 200) #original\n",
    "# font = cv2.FONT_HERSHEY_COMPLEX\n",
    "# fontScale = 6\n",
    "# color = (0,0,255)  #(B, G, R)\n",
    "# thickness = 3\n",
    "# lineType = cv2.LINE_AA\n",
    "# bottomLeftOrigin = True #True for reverse image\n",
    " \n",
    "# # Syntax>> cv2.putText(image, text, org, font, fontScale, color[, thickness[, lineType[, bottomLeftOrigin]]])\n",
    " \n",
    "# img_text = cv2.putText(image, text, org, font, fontScale, color, thickness, lineType, bottomLeftOrigin=False)\n",
    " \n",
    "# cv2.imshow(\"Text Image\", img_text)\n",
    " \n",
    "cv2.waitKey(0)\n",
    "cv2.destroyAllWindows()"
   ]
  },
  {
   "cell_type": "markdown",
   "id": "a4960449",
   "metadata": {},
   "source": [
    "# Split image using NumPy indexing\n"
   ]
  },
  {
   "cell_type": "code",
   "execution_count": 2,
   "id": "7c0bccab",
   "metadata": {},
   "outputs": [
    {
     "data": {
      "text/plain": [
       "(720, 1280, 3)"
      ]
     },
     "execution_count": 2,
     "metadata": {},
     "output_type": "execute_result"
    }
   ],
   "source": [
    "img.shape #height width and three color(b,g,r)"
   ]
  },
  {
   "cell_type": "code",
   "execution_count": 3,
   "id": "4810f73a",
   "metadata": {},
   "outputs": [
    {
     "data": {
      "text/plain": [
       "array([[255, 255, 255, ..., 255, 255, 255],\n",
       "       [255, 255, 255, ..., 255, 255, 255],\n",
       "       [255, 255, 255, ..., 255, 255, 255],\n",
       "       ...,\n",
       "       [255, 255, 255, ..., 255, 255, 255],\n",
       "       [255, 255, 255, ..., 255, 255, 255],\n",
       "       [255, 255, 255, ..., 255, 255, 255]], dtype=uint8)"
      ]
     },
     "execution_count": 3,
     "metadata": {},
     "output_type": "execute_result"
    }
   ],
   "source": [
    "img[:,:,0]  # b=0 ,g=1 ,r=2"
   ]
  },
  {
   "cell_type": "code",
   "execution_count": 4,
   "id": "d9d310a3",
   "metadata": {},
   "outputs": [
    {
     "data": {
      "text/plain": [
       "array([[255, 255, 255, ..., 255, 255, 255],\n",
       "       [255, 255, 255, ..., 255, 255, 255],\n",
       "       [255, 255, 255, ..., 255, 255, 255],\n",
       "       ...,\n",
       "       [255, 255, 255, ..., 255, 255, 255],\n",
       "       [255, 255, 255, ..., 255, 255, 255],\n",
       "       [255, 255, 255, ..., 255, 255, 255]], dtype=uint8)"
      ]
     },
     "execution_count": 4,
     "metadata": {},
     "output_type": "execute_result"
    }
   ],
   "source": [
    "img[:,:,1]"
   ]
  },
  {
   "cell_type": "code",
   "execution_count": 5,
   "id": "6f325c49",
   "metadata": {},
   "outputs": [
    {
     "data": {
      "text/plain": [
       "array([[255, 255, 255, ..., 255, 255, 255],\n",
       "       [255, 255, 255, ..., 255, 255, 255],\n",
       "       [255, 255, 255, ..., 255, 255, 255],\n",
       "       ...,\n",
       "       [255, 255, 255, ..., 255, 255, 255],\n",
       "       [255, 255, 255, ..., 255, 255, 255],\n",
       "       [255, 255, 255, ..., 255, 255, 255]], dtype=uint8)"
      ]
     },
     "execution_count": 5,
     "metadata": {},
     "output_type": "execute_result"
    }
   ],
   "source": [
    "img[:,:,2]"
   ]
  },
  {
   "cell_type": "markdown",
   "id": "3f2ba3eb",
   "metadata": {},
   "source": [
    "# Split image using cv2.split()"
   ]
  },
  {
   "cell_type": "code",
   "execution_count": 9,
   "id": "bb4e2231",
   "metadata": {},
   "outputs": [],
   "source": [
    "b, g, r = cv2.split(img)"
   ]
  },
  {
   "cell_type": "code",
   "execution_count": 10,
   "id": "09f67af6",
   "metadata": {},
   "outputs": [
    {
     "data": {
      "text/plain": [
       "(720, 1280)"
      ]
     },
     "execution_count": 10,
     "metadata": {},
     "output_type": "execute_result"
    }
   ],
   "source": [
    "b\n",
    "b.shape\n"
   ]
  },
  {
   "cell_type": "markdown",
   "id": "1e28af32",
   "metadata": {},
   "source": [
    "# Time Calculation to split Image"
   ]
  },
  {
   "cell_type": "markdown",
   "id": "78ccc258",
   "metadata": {},
   "source": [
    "For Split fucntion"
   ]
  },
  {
   "cell_type": "code",
   "execution_count": 11,
   "id": "a8696c34",
   "metadata": {},
   "outputs": [
    {
     "name": "stdout",
     "output_type": "stream",
     "text": [
      "Total time taken to split 100 images:  0.45373964309692383\n"
     ]
    }
   ],
   "source": [
    "import time\n",
    " \n",
    "start_time = time.time()\n",
    " \n",
    "for i in range(100):\n",
    "    r, g, r = cv2.split(img)\n",
    "     \n",
    "end_time = time.time()\n",
    " \n",
    "print(\"Total time taken to split 100 images: \", end_time - start_time)"
   ]
  },
  {
   "cell_type": "markdown",
   "id": "cc578a38",
   "metadata": {},
   "source": [
    "For Numpy Indexing"
   ]
  },
  {
   "cell_type": "code",
   "execution_count": 12,
   "id": "b027e036",
   "metadata": {},
   "outputs": [
    {
     "name": "stdout",
     "output_type": "stream",
     "text": [
      "Total time taken to split 100 images:  0.0009992122650146484\n"
     ]
    }
   ],
   "source": [
    "import time\n",
    " \n",
    "start_time = time.time()\n",
    " \n",
    "for i in range(100):\n",
    "    b = img[:, :, 0]\n",
    "    g = img[:, :, 1]\n",
    "    r = img[:, :, 2]\n",
    "     \n",
    "end_time = time.time()\n",
    " \n",
    "print(\"Total time taken to split 100 images: \", end_time - start_time)"
   ]
  },
  {
   "cell_type": "markdown",
   "id": "7fe952e5",
   "metadata": {},
   "source": [
    "# Show single channel"
   ]
  },
  {
   "cell_type": "code",
   "execution_count": 16,
   "id": "5fc1318f",
   "metadata": {},
   "outputs": [
    {
     "data": {
      "text/plain": [
       "-1"
      ]
     },
     "execution_count": 16,
     "metadata": {},
     "output_type": "execute_result"
    }
   ],
   "source": [
    "import cv2\n",
    " \n",
    "img_path=r\"D:\\Python DS\\Computer Vision\\Mai-Baba.jpg\"\n",
    " \n",
    "img = cv2.imread(img_path)\n",
    "img = cv2.resize(img, (400, 400))\n",
    " \n",
    "cv2.imshow(\"Model Blue Image\", img[:,:,0])\n",
    "cv2.imshow(\"Model Green Image\", img[:,:,1])\n",
    "cv2.imshow(\"Model Red Image\", img[:,:,2])\n",
    " \n",
    "cv2.waitKey(0)"
   ]
  },
  {
   "cell_type": "markdown",
   "id": "3e1ce59b",
   "metadata": {},
   "source": [
    "# Merge Image"
   ]
  },
  {
   "cell_type": "code",
   "execution_count": 17,
   "id": "6c3f030c",
   "metadata": {},
   "outputs": [],
   "source": [
    "img_merge = cv2.merge([b,g,r])"
   ]
  },
  {
   "cell_type": "code",
   "execution_count": 19,
   "id": "310159bc",
   "metadata": {},
   "outputs": [],
   "source": [
    "import cv2\n",
    " \n",
    "img_path=r\"D:\\Python DS\\Computer Vision\\Mai-Baba.jpg\" \n",
    "img = cv2.imread(img_path)\n",
    "img = cv2.resize(img, (400, 400))\n",
    " \n",
    "b, g, r = cv2.split(img)\n",
    " \n",
    " \n",
    "img_merge = cv2.merge([b,g,r])\n",
    " \n",
    "cv2.imshow(\"Model Blue Image\", b)\n",
    "cv2.imshow(\"Model Green Image\", g)\n",
    "cv2.imshow(\"Model Red Image\", r)\n",
    " \n",
    "cv2.imshow(\"Merge Model Image\", img_merge)\n",
    " \n",
    "cv2.waitKey(0)\n",
    "cv2.destroyAllWindows()"
   ]
  },
  {
   "cell_type": "code",
   "execution_count": null,
   "id": "776a3d11",
   "metadata": {},
   "outputs": [],
   "source": []
  }
 ],
 "metadata": {
  "kernelspec": {
   "display_name": "Python 3 (ipykernel)",
   "language": "python",
   "name": "python3"
  },
  "language_info": {
   "codemirror_mode": {
    "name": "ipython",
    "version": 3
   },
   "file_extension": ".py",
   "mimetype": "text/x-python",
   "name": "python",
   "nbconvert_exporter": "python",
   "pygments_lexer": "ipython3",
   "version": "3.9.7"
  }
 },
 "nbformat": 4,
 "nbformat_minor": 5
}
